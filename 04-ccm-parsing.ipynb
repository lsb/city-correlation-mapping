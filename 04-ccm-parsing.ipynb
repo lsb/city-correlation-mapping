{
 "cells": [
  {
   "cell_type": "code",
   "execution_count": 1,
   "metadata": {},
   "outputs": [],
   "source": [
    "import pandas as pd\n",
    "import numpy as np\n"
   ]
  },
  {
   "cell_type": "code",
   "execution_count": 2,
   "metadata": {},
   "outputs": [
    {
     "name": "stdout",
     "output_type": "stream",
     "text": [
      "Requirement already satisfied: pyarrow in /opt/conda/lib/python3.7/site-packages (0.15.1)\r\n",
      "Requirement already satisfied: six>=1.0.0 in /opt/conda/lib/python3.7/site-packages (from pyarrow) (1.13.0)\r\n",
      "Requirement already satisfied: numpy>=1.14 in /opt/conda/lib/python3.7/site-packages (from pyarrow) (1.17.3)\r\n"
     ]
    }
   ],
   "source": [
    "!pip install pyarrow\n",
    "import pyarrow as pa"
   ]
  },
  {
   "cell_type": "code",
   "execution_count": 3,
   "metadata": {},
   "outputs": [],
   "source": [
    "from pyarrow import json as pajson\n",
    "\n",
    "pages = pajson.read_json(\"dense-articles.json.gz\").to_pandas()\n",
    "pages = pages.astype({'id':'int32', 'lat':'float32', 'lng':'float32'}).set_index('id').sort_index()\n",
    "pages['lat'] = pages['lat'].clip(-89.999,89.999)"
   ]
  },
  {
   "cell_type": "code",
   "execution_count": 4,
   "metadata": {},
   "outputs": [],
   "source": [
    "revisions = pajson.read_json(\"dense-revisions.json.gz\").to_pandas()\n",
    "revisions = revisions.groupby(['page','user']).size().rename('count').reset_index()\n",
    "revisions = revisions.astype({'page': 'int32', 'user': 'int32', 'count': 'int32'})"
   ]
  },
  {
   "cell_type": "code",
   "execution_count": 5,
   "metadata": {},
   "outputs": [],
   "source": [
    "with open('pages.arrow','wb') as f:\n",
    "    f.write(pa.default_serialization_context().serialize(pages).to_buffer())"
   ]
  },
  {
   "cell_type": "code",
   "execution_count": 6,
   "metadata": {},
   "outputs": [],
   "source": [
    "with open('revisions.arrow','wb') as f:\n",
    "    f.write(pa.default_serialization_context().serialize(revisions).to_buffer())"
   ]
  },
  {
   "cell_type": "code",
   "execution_count": 7,
   "metadata": {
    "scrolled": true
   },
   "outputs": [
    {
     "data": {
      "text/html": [
       "<div>\n",
       "<style scoped>\n",
       "    .dataframe tbody tr th:only-of-type {\n",
       "        vertical-align: middle;\n",
       "    }\n",
       "\n",
       "    .dataframe tbody tr th {\n",
       "        vertical-align: top;\n",
       "    }\n",
       "\n",
       "    .dataframe thead th {\n",
       "        text-align: right;\n",
       "    }\n",
       "</style>\n",
       "<table border=\"1\" class=\"dataframe\">\n",
       "  <thead>\n",
       "    <tr style=\"text-align: right;\">\n",
       "      <th></th>\n",
       "      <th>title</th>\n",
       "      <th>lat</th>\n",
       "      <th>lng</th>\n",
       "    </tr>\n",
       "    <tr>\n",
       "      <th>id</th>\n",
       "      <th></th>\n",
       "      <th></th>\n",
       "      <th></th>\n",
       "    </tr>\n",
       "  </thead>\n",
       "  <tbody>\n",
       "    <tr>\n",
       "      <th>1</th>\n",
       "      <td>United States</td>\n",
       "      <td>40.000000</td>\n",
       "      <td>-100.000000</td>\n",
       "    </tr>\n",
       "    <tr>\n",
       "      <th>2</th>\n",
       "      <td>India</td>\n",
       "      <td>21.000000</td>\n",
       "      <td>78.000000</td>\n",
       "    </tr>\n",
       "    <tr>\n",
       "      <th>3</th>\n",
       "      <td>United Kingdom</td>\n",
       "      <td>55.000000</td>\n",
       "      <td>-3.000000</td>\n",
       "    </tr>\n",
       "    <tr>\n",
       "      <th>4</th>\n",
       "      <td>New York City</td>\n",
       "      <td>40.660999</td>\n",
       "      <td>-73.944000</td>\n",
       "    </tr>\n",
       "    <tr>\n",
       "      <th>5</th>\n",
       "      <td>Canada</td>\n",
       "      <td>60.000000</td>\n",
       "      <td>-95.000000</td>\n",
       "    </tr>\n",
       "    <tr>\n",
       "      <th>...</th>\n",
       "      <td>...</td>\n",
       "      <td>...</td>\n",
       "      <td>...</td>\n",
       "    </tr>\n",
       "    <tr>\n",
       "      <th>1166588</th>\n",
       "      <td>Schachen (Gais) railway station</td>\n",
       "      <td>47.361526</td>\n",
       "      <td>9.477222</td>\n",
       "    </tr>\n",
       "    <tr>\n",
       "      <th>1166589</th>\n",
       "      <td>Hebrig railway station</td>\n",
       "      <td>47.361946</td>\n",
       "      <td>9.465000</td>\n",
       "    </tr>\n",
       "    <tr>\n",
       "      <th>1166590</th>\n",
       "      <td>Gais railway station</td>\n",
       "      <td>47.361111</td>\n",
       "      <td>9.451111</td>\n",
       "    </tr>\n",
       "    <tr>\n",
       "      <th>1166591</th>\n",
       "      <td>Zedi Bakhvi</td>\n",
       "      <td>41.945557</td>\n",
       "      <td>42.128056</td>\n",
       "    </tr>\n",
       "    <tr>\n",
       "      <th>1166592</th>\n",
       "      <td>Ladner Ferry</td>\n",
       "      <td>49.117500</td>\n",
       "      <td>-123.086670</td>\n",
       "    </tr>\n",
       "  </tbody>\n",
       "</table>\n",
       "<p>1166592 rows × 3 columns</p>\n",
       "</div>"
      ],
      "text/plain": [
       "                                   title        lat         lng\n",
       "id                                                             \n",
       "1                          United States  40.000000 -100.000000\n",
       "2                                  India  21.000000   78.000000\n",
       "3                         United Kingdom  55.000000   -3.000000\n",
       "4                          New York City  40.660999  -73.944000\n",
       "5                                 Canada  60.000000  -95.000000\n",
       "...                                  ...        ...         ...\n",
       "1166588  Schachen (Gais) railway station  47.361526    9.477222\n",
       "1166589           Hebrig railway station  47.361946    9.465000\n",
       "1166590             Gais railway station  47.361111    9.451111\n",
       "1166591                      Zedi Bakhvi  41.945557   42.128056\n",
       "1166592                     Ladner Ferry  49.117500 -123.086670\n",
       "\n",
       "[1166592 rows x 3 columns]"
      ]
     },
     "execution_count": 7,
     "metadata": {},
     "output_type": "execute_result"
    }
   ],
   "source": [
    "pages"
   ]
  },
  {
   "cell_type": "code",
   "execution_count": 8,
   "metadata": {},
   "outputs": [
    {
     "data": {
      "text/html": [
       "<div>\n",
       "<style scoped>\n",
       "    .dataframe tbody tr th:only-of-type {\n",
       "        vertical-align: middle;\n",
       "    }\n",
       "\n",
       "    .dataframe tbody tr th {\n",
       "        vertical-align: top;\n",
       "    }\n",
       "\n",
       "    .dataframe thead th {\n",
       "        text-align: right;\n",
       "    }\n",
       "</style>\n",
       "<table border=\"1\" class=\"dataframe\">\n",
       "  <thead>\n",
       "    <tr style=\"text-align: right;\">\n",
       "      <th></th>\n",
       "      <th>title</th>\n",
       "      <th>lat</th>\n",
       "      <th>lng</th>\n",
       "    </tr>\n",
       "    <tr>\n",
       "      <th>id</th>\n",
       "      <th></th>\n",
       "      <th></th>\n",
       "      <th></th>\n",
       "    </tr>\n",
       "  </thead>\n",
       "  <tbody>\n",
       "    <tr>\n",
       "      <th>196329</th>\n",
       "      <td>Polheim</td>\n",
       "      <td>-89.999001</td>\n",
       "      <td>0.0</td>\n",
       "    </tr>\n",
       "  </tbody>\n",
       "</table>\n",
       "</div>"
      ],
      "text/plain": [
       "          title        lat  lng\n",
       "id                             \n",
       "196329  Polheim -89.999001  0.0"
      ]
     },
     "execution_count": 8,
     "metadata": {},
     "output_type": "execute_result"
    }
   ],
   "source": [
    "pages[pages['title'] == 'Polheim']"
   ]
  },
  {
   "cell_type": "code",
   "execution_count": null,
   "metadata": {},
   "outputs": [],
   "source": []
  },
  {
   "cell_type": "code",
   "execution_count": 9,
   "metadata": {},
   "outputs": [],
   "source": [
    "data = [pa.array(pages[c]) for c in pages.columns]\n",
    "batch = pa.RecordBatch.from_arrays(data, pages.columns)\n",
    "sink = pa.BufferOutputStream()\n",
    "writer = pa.RecordBatchStreamWriter(sink, batch.schema)\n",
    "writer.write_batch(batch)\n",
    "writer.close()\n",
    "with open('pages.noindex.arrow', 'wb') as f:\n",
    "    f.write(sink.getvalue())"
   ]
  },
  {
   "cell_type": "code",
   "execution_count": 10,
   "metadata": {},
   "outputs": [],
   "source": [
    "!gzip -fkd dense-articles.json.gz\n",
    "!touch autocomplete.db && rm autocomplete.db\n",
    "!sqlite3 autocomplete.db \"pragma page_size=16384;create table raw(j json);\"\n",
    "!sqlite3 autocomplete.db \".import dense-articles.json raw\"\n",
    "!sqlite3 autocomplete.db \"create virtual table titles using fts4(content='',title)\"\n",
    "!sqlite3 autocomplete.db \"insert into titles (rowid, title) select json_extract(j, '$.id'), json_extract(j, '$.title') from raw\"\n",
    "!sqlite3 autocomplete.db \"drop table raw;vacuum;\""
   ]
  }
 ],
 "metadata": {
  "kernelspec": {
   "display_name": "Python 3",
   "language": "python",
   "name": "python3"
  },
  "language_info": {
   "codemirror_mode": {
    "name": "ipython",
    "version": 3
   },
   "file_extension": ".py",
   "mimetype": "text/x-python",
   "name": "python",
   "nbconvert_exporter": "python",
   "pygments_lexer": "ipython3",
   "version": "3.7.3"
  }
 },
 "nbformat": 4,
 "nbformat_minor": 2
}
